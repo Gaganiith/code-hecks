{
 "cells": [
  {
   "cell_type": "code",
   "execution_count": 146,
   "metadata": {},
   "outputs": [],
   "source": [
    "import pandas as pd\n",
    "import numpy as np\n",
    "import math\n",
    "import random\n",
    "from random import sample \n",
    "import time\n",
    "import scipy.optimize as spo\n",
    "import matplotlib.pyplot as plt\n"
   ]
  },
  {
   "cell_type": "code",
   "execution_count": 147,
   "metadata": {},
   "outputs": [],
   "source": [
    "def test_run(symbols,date):\n",
    "    \n",
    "    dates= pd.date_range(date[0],date[1])\n",
    "    \n",
    "    #create empty dataframe\n",
    "    df1 = pd.DataFrame(index=dates)\n",
    "\n",
    "    for symbol in symbols:\n",
    "        df_temp=pd.read_csv(\"data/{}.csv\".format(symbol),index_col=\"Date\",\n",
    "                        parse_dates=True,usecols=['Date','Adj Close'],\n",
    "                        na_values=['nan'])\n",
    "        #rename to prevent clash\n",
    "        df_temp=df_temp.rename(columns={'Adj Close':symbol})\n",
    "        df1=df1.join(df_temp,how=\"inner\")\n",
    "    return df1"
   ]
  },
  {
   "cell_type": "code",
   "execution_count": 148,
   "metadata": {},
   "outputs": [],
   "source": [
    "def compute_daily_returns(df):\n",
    "    daily_returns = df.copy()\n",
    "    daily_returns[1:] = (df[1:]/df[:-1].values) -1\n",
    "    daily_returns.iloc[0]=0\n",
    "    return daily_returns\n",
    "def compute_normed(df):\n",
    "    normed = df.copy()\n",
    "    normed = df/df.iloc[0,:]\n",
    "    return normed\n",
    "def compute_alloc(df,allocs):\n",
    "    dfalloc = df.copy()\n",
    "    dfalloc = df*allocs\n",
    "    return dfalloc\n",
    "def compute_posval(df,pos_val):\n",
    "    dfposval = df.copy()\n",
    "    dfposval = df*pos_val\n",
    "    return dfposval\n",
    "def comupte_portval(df):\n",
    "    dfportval = df.copy()\n",
    "    dfportval = dfportval.sum(axis=1)\n",
    "    return dfportval\n",
    "def compute_sharp_ratio(df):\n",
    "    rfr = 1.0+0.5\n",
    "    daily_rf = (rfr**(1/252))-1\n",
    "    return ((df-daily_rf).mean()/df.std())* (252**(1/2))"
   ]
  },
  {
   "cell_type": "code",
   "execution_count": 149,
   "metadata": {
    "scrolled": true
   },
   "outputs": [],
   "source": [
    "def minSratio(allocs,df):\n",
    "    #Normalized \n",
    "    dfnorm = compute_normed(df)\n",
    "#     allocs=[0.4,0.4,0.1,0.1]\n",
    "    print(allocs)\n",
    "    pos_val = 100000\n",
    "    # Added allocation\n",
    "    dfalloc = compute_alloc(dfnorm,allocs)\n",
    "    #Added money\n",
    "    dfpos_val = compute_posval(dfalloc,pos_val)\n",
    "    #Add portfolio value\n",
    "    dfport_val = comupte_portval(dfpos_val)\n",
    "    # print(dfport_val)\n",
    "    # Add daily returns\n",
    "    daily_returns = compute_daily_returns(dfport_val)\n",
    "    # Average and std of daily returns\n",
    "    avg_daily_returns = daily_returns.mean()\n",
    "    std_daily_returns = daily_returns.std()\n",
    "    # print(avg_daily_returns)\n",
    "    # Compute Sharpe ratio\n",
    "    sharp_ratio = compute_sharp_ratio(daily_returns)\n",
    "    # K* Sharp ratio where  k is frequency of sample u r taking\n",
    "    print(sharp_ratio)\n",
    "    return sharp_ratio"
   ]
  },
  {
   "cell_type": "code",
   "execution_count": 158,
   "metadata": {},
   "outputs": [
    {
     "name": "stdout",
     "output_type": "stream",
     "text": [
      "                 3MINDIA     HDFCBANK     NESTLEIND         ITC   PIDILITIND  \\\n",
      "2010-06-11   2565.649902   163.349808   2527.031250   76.055702   103.835747   \n",
      "2010-06-14   2583.850098   165.824936   2533.050049   77.284843   103.605919   \n",
      "2010-06-15   2605.449951   164.795380   2536.361816   78.797523   106.088058   \n",
      "2010-06-16   2638.399902   165.669449   2554.022949   78.581459   104.617157   \n",
      "2010-06-17   2637.750000   167.778976   2543.208496   79.391869   104.663124   \n",
      "...                  ...          ...           ...         ...          ...   \n",
      "2020-06-05  17979.199219  1034.750000  17033.726563  200.000000  1508.300049   \n",
      "2020-06-08  18271.699219  1015.450012  16774.085938  197.649994  1492.300049   \n",
      "2020-06-09  18166.800781   986.950012  16491.533203  198.500000  1467.300049   \n",
      "2020-06-10  18260.099609   991.799988  16473.699219  199.050003  1454.750000   \n",
      "2020-06-11  17578.599609   968.650024  16608.199219  194.250000  1417.300049   \n",
      "\n",
      "                  TITAN  \n",
      "2010-06-11    92.070313  \n",
      "2010-06-14    92.763847  \n",
      "2010-06-15    92.770447  \n",
      "2010-06-16    92.036331  \n",
      "2010-06-17    91.166321  \n",
      "...                 ...  \n",
      "2020-06-05   990.950012  \n",
      "2020-06-08  1025.000000  \n",
      "2020-06-09   997.099976  \n",
      "2020-06-10   977.250000  \n",
      "2020-06-11   951.250000  \n",
      "\n",
      "[2469 rows x 6 columns]\n",
      "(2469, 6)\n"
     ]
    }
   ],
   "source": [
    "symbols=['3MINDIA','HDFCBANK','NESTLEIND','ITC','PIDILITIND','TITAN']\n",
    "date=[\"2015-6-11\",\"2020-6-11\"]\n",
    "windows = 20\n",
    "df = test_run(symbols,date)\n",
    "df = df.fillna(method='ffill')\n",
    "df = df.fillna(method='bfill')\n",
    "# print(df)\n",
    "\n",
    "# df['ad_SMA'], df['momentum'], df['BBU'], df['BBL'] = feature(df,windows)\n",
    "# df = df.iloc[windows:]\n",
    "print(df)\n",
    "print(df.shape)"
   ]
  },
  {
   "cell_type": "markdown",
   "metadata": {},
   "source": [
    "### Optimizer"
   ]
  },
  {
   "cell_type": "code",
   "execution_count": 160,
   "metadata": {},
   "outputs": [
    {
     "name": "stdout",
     "output_type": "stream",
     "text": [
      "[0.33 0.33 0.33 0.33 0.33 0.33]\n",
      "-0.9289685196744104\n",
      "[0.33 0.33 0.33 0.33 0.33 0.33]\n",
      "-0.9289685196744104\n",
      "[0.33000001 0.33       0.33       0.33       0.33       0.33      ]\n",
      "-0.9289685214718131\n",
      "[0.33       0.33000001 0.33       0.33       0.33       0.33      ]\n",
      "-0.9289685143534756\n",
      "[0.33       0.33       0.33000001 0.33       0.33       0.33      ]\n",
      "-0.9289685233581393\n",
      "[0.33       0.33       0.33       0.33000001 0.33       0.33      ]\n",
      "-0.9289685247630525\n",
      "[0.33       0.33       0.33       0.33       0.33000001 0.33      ]\n",
      "-0.9289685181679986\n",
      "[0.33       0.33       0.33       0.33       0.33       0.33000001]\n",
      "-0.9289685159320005\n",
      "[5.91423829e-02 3.30000000e-01 0.00000000e+00 5.55111512e-17\n",
      " 2.80857617e-01 3.30000000e-01]\n",
      "-0.5452666816392753\n",
      "[5.91423829e-02 3.30000000e-01 0.00000000e+00 5.55111512e-17\n",
      " 2.80857617e-01 3.30000000e-01]\n",
      "-0.5452666816392753\n",
      "[5.91423978e-02 3.30000000e-01 0.00000000e+00 5.55111512e-17\n",
      " 2.80857617e-01 3.30000000e-01]\n",
      "-0.5452666904395391\n",
      "[5.91423829e-02 3.30000015e-01 0.00000000e+00 5.55111512e-17\n",
      " 2.80857617e-01 3.30000000e-01]\n",
      "-0.5452666776849301\n",
      "[5.91423829e-02 3.30000000e-01 1.49011612e-08 5.55111512e-17\n",
      " 2.80857617e-01 3.30000000e-01]\n",
      "-0.5452666904566353\n",
      "[5.91423829e-02 3.30000000e-01 0.00000000e+00 1.49011612e-08\n",
      " 2.80857617e-01 3.30000000e-01]\n",
      "-0.5452666925409672\n",
      "[5.91423829e-02 3.30000000e-01 0.00000000e+00 5.55111512e-17\n",
      " 2.80857632e-01 3.30000000e-01]\n",
      "-0.545266683865276\n",
      "[5.91423829e-02 3.30000000e-01 0.00000000e+00 5.55111512e-17\n",
      " 2.80857617e-01 3.30000015e-01]\n",
      "-0.5452666821219326\n",
      "[1.00000000e-02 3.30000000e-01 3.12250226e-17 0.00000000e+00\n",
      " 3.30000000e-01 3.30000000e-01]\n",
      "-0.5224017476725701\n",
      "[1.00000000e-02 3.30000000e-01 3.12250226e-17 0.00000000e+00\n",
      " 3.30000000e-01 3.30000000e-01]\n",
      "-0.5224017476725701\n",
      "[1.00000149e-02 3.30000000e-01 3.12250226e-17 0.00000000e+00\n",
      " 3.30000000e-01 3.30000000e-01]\n",
      "-0.5224017570314721\n",
      "[1.00000000e-02 3.30000015e-01 3.12250226e-17 0.00000000e+00\n",
      " 3.30000000e-01 3.30000000e-01]\n",
      "-0.5224017442079985\n",
      "[1.00000000e-02 3.30000000e-01 1.49011612e-08 0.00000000e+00\n",
      " 3.30000000e-01 3.30000000e-01]\n",
      "-0.5224017564317411\n",
      "[1.00000000e-02 3.30000000e-01 3.12250226e-17 1.49011612e-08\n",
      " 3.30000000e-01 3.30000000e-01]\n",
      "-0.5224017584544133\n",
      "[1.00000000e-02 3.30000000e-01 3.12250226e-17 0.00000000e+00\n",
      " 3.30000015e-01 3.30000000e-01]\n",
      "-0.5224017497723354\n",
      "[1.00000000e-02 3.30000000e-01 3.12250226e-17 0.00000000e+00\n",
      " 3.30000000e-01 3.30000015e-01]\n",
      "-0.522401748753767\n",
      "[0.   0.33 0.01 0.   0.33 0.33]\n",
      "-0.5219467692431385\n",
      "[0.   0.33 0.01 0.   0.33 0.33]\n",
      "-0.5219467692431385\n",
      "[1.49011612e-08 3.30000000e-01 1.00000000e-02 0.00000000e+00\n",
      " 3.30000000e-01 3.30000000e-01]\n",
      "-0.521946778725398\n",
      "[0.         0.33000001 0.01       0.         0.33       0.33      ]\n",
      "-0.5219467657800262\n",
      "[0.         0.33       0.01000001 0.         0.33       0.33      ]\n",
      "-0.5219467779688863\n",
      "[0.00000000e+00 3.30000000e-01 1.00000000e-02 1.49011612e-08\n",
      " 3.30000000e-01 3.30000000e-01]\n",
      "-0.5219467800288183\n",
      "[0.         0.33       0.01       0.         0.33000001 0.33      ]\n",
      "-0.5219467713479473\n",
      "[0.         0.33       0.01       0.         0.33       0.33000001]\n",
      "-0.5219467703370243\n",
      "Optimization terminated successfully.    (Exit mode 0)\n",
      "            Current function value: 0.5219467692431385\n",
      "            Iterations: 4\n",
      "            Function evaluations: 32\n",
      "            Gradient evaluations: 4\n",
      "      4        3\n",
      "0.33 x + 0.01 x + 0.33 x + 0.33\n"
     ]
    },
    {
     "data": {
      "image/png": "[encoded data removed]",
      "text/plain": [
       "<Figure size 432x288 with 1 Axes>"
      ]
     },
     "metadata": {
      "needs_background": "light"
     },
     "output_type": "display_data"
    }
   ],
   "source": [
    "def error_poly(C, data):\n",
    "#     err = np.sum((data[:,1] - np.polyval(C, data[:, 0])) ** 2)\n",
    "    err = minSratio(C,data)* -1\n",
    "    return err\n",
    "\n",
    "def apply_sum_constraint(inputs):\n",
    "    #return value must come back as 0 to be accepted\n",
    "    #if return value is anything other than 0 it's rejected\n",
    "    #as not a valid answer.\n",
    "    total = 1 - np.sum(inputs)\n",
    "    return total\n",
    "\n",
    "my_constraints = ({'type': 'eq', \"fun\": apply_sum_constraint })\n",
    "def fit_poly(data, error_func, degree=3):\n",
    "    #Generate initial guess for polynomial model (all coeffs = 1)\n",
    "    Cguess = np.poly1d(np.ones(degree+1, dtype=np.float32))\n",
    "    bound = [(0,0.33),(0,0.33),(0,0.33),(0,0.33),(0,0.33),(0,0.33)]\n",
    "    #Plot initial guess (optional)\n",
    "    x = np.linspace(-5, 5, 21)\n",
    "    plt.plot(x, np.polyval(Cguess, x), 'm--', linewidth=2.0, label=\"Initial guess\")\n",
    "    \n",
    "    #Call optimizer to minimize\n",
    "    result = spo.minimize(error_func, Cguess, args=(data,), method='SLSQP',\n",
    "                          bounds=bound,constraints=my_constraints, options={'disp':True})\n",
    "    return np.poly1d(result.x)\n",
    "print(fit_poly(df,error_poly,5))"
   ]
  },
  {
   "cell_type": "code",
   "execution_count": 157,
   "metadata": {},
   "outputs": [
    {
     "name": "stdout",
     "output_type": "stream",
     "text": [
      "Original line: C0 and C1 =  4.0 2.0\n",
      "Fitted line: C0 and C1 =  3.4569941543995553 4.292365209103569\n"
     ]
    },
    {
     "data": {
      "image/png": "[encoded data removed]",
      "text/plain": [
       "<Figure size 432x288 with 1 Axes>"
      ]
     },
     "metadata": {
      "needs_background": "light"
     },
     "output_type": "display_data"
    }
   ],
   "source": [
    "# ['3MINDIA','HDFCBANK','NESTLEIND','ITC','PIDILITIND','TITAN']\n",
    "def error(line,data):\n",
    "    err = np.sum((data[:,1] - (line[0] * data[:, 0] + line[1])) ** 2)\n",
    "    return err\n",
    "\n",
    "def fit_line(data, error_func):\n",
    "    \n",
    "    # Generate initial guess for the line model\n",
    "    l = np.float32([0, np.mean(data[:, 1])]) # slope=0, intercept = mean( y values)\n",
    "    \n",
    "    #plot initial guess for the model\n",
    "    x_ends = np.float32([-5,5])\n",
    "    plt.plot(x_ends, l[0] * x_ends + l[1], 'm--', linewidth=2.0, label='Initial guess')\n",
    "    \n",
    "    # Call optimizer to minimize errror function\n",
    "    result = spo.minimize(error_func, l, args=(data,), method='SLSQP', options=None)\n",
    "    return result.x\n",
    "\n",
    "def optimizer_run():\n",
    "    # Define original line\n",
    "    l_orig = np.float32([4,2])\n",
    "    print(\"Original line: C0 and C1 = \",l_orig[0],l_orig[1])\n",
    "    Xorig = np.linspace(0, 10, 21)\n",
    "    Yorig = l_orig[0] * Xorig + l_orig[1]\n",
    "    plt.plot(Xorig, Yorig, 'b--', linewidth=2.0, label=\"Original line\")\n",
    "    \n",
    "    # Generate noisy data points\n",
    "    noise_sigma = 3.0\n",
    "    noise = np.random.normal(0, noise_sigma, Yorig.shape)\n",
    "    data = np.asarray([Xorig, Yorig + noise]).T\n",
    "    plt.plot(data[:,0], data[:, 1], 'go', label = \"Data points\")\n",
    "    \n",
    "    #Try to fit a line in this data\n",
    "    l_fit = fit_line(data, error)\n",
    "    print(\"Fitted line: C0 and C1 = \", l_fit[0],l_fit[1])\n",
    "    plt.plot(data[:,0], l_fit[0] * data[:, 0] + l_fit[1], 'r--', linewidth=2.0, label = \"Fitted line\")\n",
    "\n",
    "optimizer_run()"
   ]
  },
  {
   "cell_type": "code",
   "execution_count": null,
   "metadata": {},
   "outputs": [],
   "source": []
  },
  {
   "cell_type": "code",
   "execution_count": null,
   "metadata": {},
   "outputs": [],
   "source": []
  }
 ],
 "metadata": {
  "kernelspec": {
   "display_name": "Python 3",
   "language": "python",
   "name": "python3"
  },
  "language_info": {
   "codemirror_mode": {
    "name": "ipython",
    "version": 3
   },
   "file_extension": ".py",
   "mimetype": "text/x-python",
   "name": "python",
   "nbconvert_exporter": "python",
   "pygments_lexer": "ipython3",
   "version": "3.6.9"
  }
 },
 "nbformat": 4,
 "nbformat_minor": 4
}
