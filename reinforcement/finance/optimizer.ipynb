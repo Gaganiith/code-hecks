{
 "cells": [
  {
   "cell_type": "code",
   "execution_count": 67,
   "metadata": {},
   "outputs": [],
   "source": [
    "import pandas as pd\n",
    "import numpy as np\n",
    "import math\n",
    "import random\n",
    "from random import sample \n",
    "import time\n",
    "import scipy.optimize as spo\n",
    "import matplotlib.pyplot as plt\n"
   ]
  },
  {
   "cell_type": "code",
   "execution_count": 48,
   "metadata": {},
   "outputs": [],
   "source": [
    "def test_run(symbols,date):\n",
    "    \n",
    "    dates= pd.date_range(date[0],date[1])\n",
    "    \n",
    "    #create empty dataframe\n",
    "    df1 = pd.DataFrame(index=dates)\n",
    "\n",
    "    for symbol in symbols:\n",
    "        df_temp=pd.read_csv(\"data/{}.csv\".format(symbol),index_col=\"Date\",\n",
    "                        parse_dates=True,usecols=['Date','Adj Close'],\n",
    "                        na_values=['nan'])\n",
    "        #rename to prevent clash\n",
    "        df_temp=df_temp.rename(columns={'Adj Close':symbol})\n",
    "        df1=df1.join(df_temp,how=\"inner\")\n",
    "    return df1"
   ]
  },
  {
   "cell_type": "code",
   "execution_count": 133,
   "metadata": {},
   "outputs": [],
   "source": [
    "def compute_daily_returns(df):\n",
    "    daily_returns = df.copy()\n",
    "    daily_returns[1:] = (df[1:]/df[:-1].values) -1\n",
    "    daily_returns.iloc[0]=0\n",
    "    return daily_returns\n",
    "def compute_normed(df):\n",
    "    normed = df.copy()\n",
    "    normed = df/df.iloc[0,:]\n",
    "    return normed\n",
    "def compute_alloc(df,allocs):\n",
    "    dfalloc = df.copy()\n",
    "    dfalloc = df*allocs\n",
    "    return dfalloc\n",
    "def compute_posval(df,pos_val):\n",
    "    dfposval = df.copy()\n",
    "    dfposval = df*pos_val\n",
    "    return dfposval\n",
    "def comupte_portval(df):\n",
    "    dfportval = df.copy()\n",
    "    dfportval = dfportval.sum(axis=1)\n",
    "    return dfportval\n",
    "def compute_sharp_ratio(df):\n",
    "    rfr = 1.0+0.5\n",
    "    daily_rf = (rfr**(1/252))-1\n",
    "    return ((df-daily_rf).mean()/df.std())* (252**(1/2))"
   ]
  },
  {
   "cell_type": "code",
   "execution_count": 140,
   "metadata": {},
   "outputs": [
    {
     "name": "stdout",
     "output_type": "stream",
     "text": [
      "                ITC.NS     INFY.NS           BSE  ASIANPAINT.NS\n",
      "2005-04-26    3.971846   23.577688   6339.979980       9.103828\n",
      "2005-04-27    4.030658   23.042622   6278.500000       8.924721\n",
      "2005-04-28    4.170410   22.939760   6284.200195       8.667844\n",
      "2005-04-29    4.134178   22.713446   6154.439941       8.768005\n",
      "2005-05-02    4.051505   23.054749   6195.149902       8.730294\n",
      "...                ...         ...           ...            ...\n",
      "2018-10-03  289.651154  694.468628  35975.628910    1234.796753\n",
      "2018-10-04  281.703400  674.163635  35169.160160    1208.112915\n",
      "2018-10-05  271.302643  690.750793  34376.988280    1193.119019\n",
      "2018-10-08  268.064667  681.075012  34474.378910    1230.900269\n",
      "2018-10-09  263.453003  684.220764  34299.468750    1185.128662\n",
      "\n",
      "[3328 rows x 4 columns]\n",
      "(3328, 4)\n"
     ]
    }
   ],
   "source": [
    "symbols=['ITC.NS','INFY.NS','BSE','ASIANPAINT.NS']\n",
    "date=[\"2005-4-26\",\"2018-10-9\"]\n",
    "windows = 20\n",
    "df = test_run(symbols,date)\n",
    "df = df.fillna(method='ffill')\n",
    "df = df.fillna(method='bfill')\n",
    "# print(df)\n",
    "\n",
    "# df['ad_SMA'], df['momentum'], df['BBU'], df['BBL'] = feature(df,windows)\n",
    "# df = df.iloc[windows:]\n",
    "print(df)\n",
    "print(df.shape)"
   ]
  },
  {
   "cell_type": "code",
   "execution_count": 141,
   "metadata": {
    "scrolled": true
   },
   "outputs": [],
   "source": [
    "def minSratio(allocs,df):\n",
    "    #Normalized \n",
    "    dfnorm = compute_normed(df)\n",
    "#     allocs=[0.4,0.4,0.1,0.1]\n",
    "    print(allocs)\n",
    "    pos_val = 100000\n",
    "    # Added allocation\n",
    "    dfalloc = compute_alloc(dfnorm,allocs)\n",
    "    #Added money\n",
    "    dfpos_val = compute_posval(dfalloc,pos_val)\n",
    "    #Add portfolio value\n",
    "    dfport_val = comupte_portval(dfpos_val)\n",
    "    # print(dfport_val)\n",
    "    # Add daily returns\n",
    "    daily_returns = compute_daily_returns(dfport_val)\n",
    "    # Average and std of daily returns\n",
    "    avg_daily_returns = daily_returns.mean()\n",
    "    std_daily_returns = daily_returns.std()\n",
    "    # print(avg_daily_returns)\n",
    "    # Compute Sharpe ratio\n",
    "    sharp_ratio = compute_sharp_ratio(daily_returns)\n",
    "    # K* Sharp ratio where  k is frequency of sample u r taking\n",
    "    print(sharp_ratio)\n",
    "    return sharp_ratio"
   ]
  },
  {
   "cell_type": "markdown",
   "metadata": {},
   "source": [
    "### Optimizer"
   ]
  },
  {
   "cell_type": "code",
   "execution_count": 142,
   "metadata": {},
   "outputs": [
    {
     "name": "stdout",
     "output_type": "stream",
     "text": [
      "Original line: C0 and C1 =  4.0 2.0\n",
      "Fitted line: C0 and C1 =  4.176729142991314 1.1413069377291714\n"
     ]
    },
    {
     "data": {
      "image/png": "[encoded data removed]",
      "text/plain": [
       "<Figure size 432x288 with 1 Axes>"
      ]
     },
     "metadata": {
      "needs_background": "light"
     },
     "output_type": "display_data"
    }
   ],
   "source": [
    "def error(line,data):\n",
    "    err = np.sum((data[:,1] - (line[0] * data[:, 0] + line[1])) ** 2)\n",
    "    return err\n",
    "\n",
    "def fit_line(data, error_func):\n",
    "    \n",
    "    # Generate initial guess for the line model\n",
    "    l = np.float32([0, np.mean(data[:, 1])]) # slope=0, intercept = mean( y values)\n",
    "    \n",
    "    #plot initial guess for the model\n",
    "    x_ends = np.float32([-5,5])\n",
    "    plt.plot(x_ends, l[0] * x_ends + l[1], 'm--', linewidth=2.0, label='Initial guess')\n",
    "    \n",
    "    # Call optimizer to minimize errror function\n",
    "    result = spo.minimize(error_func, l, args=(data,), method='SLSQP', options=None)\n",
    "    return result.x\n",
    "\n",
    "def optimizer_run():\n",
    "    # Define original line\n",
    "    l_orig = np.float32([4,2])\n",
    "    print(\"Original line: C0 and C1 = \",l_orig[0],l_orig[1])\n",
    "    Xorig = np.linspace(0, 10, 21)\n",
    "    Yorig = l_orig[0] * Xorig + l_orig[1]\n",
    "    plt.plot(Xorig, Yorig, 'b--', linewidth=2.0, label=\"Original line\")\n",
    "    \n",
    "    # Generate noisy data points\n",
    "    noise_sigma = 3.0\n",
    "    noise = np.random.normal(0, noise_sigma, Yorig.shape)\n",
    "    data = np.asarray([Xorig, Yorig + noise]).T\n",
    "    plt.plot(data[:,0], data[:, 1], 'go', label = \"Data points\")\n",
    "    \n",
    "    #Try to fit a line in this data\n",
    "    l_fit = fit_line(data, error)\n",
    "    print(\"Fitted line: C0 and C1 = \", l_fit[0],l_fit[1])\n",
    "    plt.plot(data[:,0], l_fit[0] * data[:, 0] + l_fit[1], 'r--', linewidth=2.0, label = \"Fitted line\")\n",
    "\n",
    "optimizer_run()"
   ]
  },
  {
   "cell_type": "code",
   "execution_count": 145,
   "metadata": {},
   "outputs": [
    {
     "name": "stdout",
     "output_type": "stream",
     "text": [
      "[0.4 0.4 0.4 0.4]\n",
      "-0.13022790495650702\n",
      "[0.4 0.4 0.4 0.4]\n",
      "-0.13022790495650702\n",
      "[0.40000001 0.4        0.4        0.4       ]\n",
      "-0.13022789944450308\n",
      "[0.4        0.40000001 0.4        0.4       ]\n",
      "-0.1302279073670196\n",
      "[0.4        0.4        0.40000001 0.4       ]\n",
      "-0.13022790847234678\n",
      "[0.4        0.4        0.4        0.40000001]\n",
      "-0.13022790454216285\n",
      "[0.4        0.16153477 0.08735752 0.3511077 ]\n",
      "0.0009664400210988646\n",
      "[0.4        0.16153477 0.08735752 0.3511077 ]\n",
      "0.0009664400210988646\n",
      "[0.40000001 0.16153477 0.08735752 0.3511077 ]\n",
      "0.0009664431973772109\n",
      "[0.4        0.16153479 0.08735752 0.3511077 ]\n",
      "0.0009664363684322351\n",
      "[0.4        0.16153477 0.08735754 0.3511077 ]\n",
      "0.0009664357374780089\n",
      "[0.4        0.16153477 0.08735752 0.35110772]\n",
      "0.0009664391487969424\n",
      "[0.4       0.1570517 0.0429483 0.4      ]\n",
      "0.011683741583786529\n",
      "[0.4       0.1570517 0.0429483 0.4      ]\n",
      "0.011683741583786529\n",
      "[0.40000001 0.1570517  0.0429483  0.4       ]\n",
      "0.011683744388847131\n",
      "[0.4        0.15705171 0.0429483  0.4       ]\n",
      "0.011683737983112329\n",
      "[0.4        0.1570517  0.04294832 0.4       ]\n",
      "0.01168373740596917\n",
      "[0.4        0.1570517  0.0429483  0.40000001]\n",
      "0.011683740641035077\n",
      "[0.4        0.18014287 0.01985713 0.4       ]\n",
      "0.012600294425762045\n",
      "[0.4        0.18014287 0.01985713 0.4       ]\n",
      "0.012600294425762045\n",
      "[0.40000001 0.18014287 0.01985713 0.4       ]\n",
      "0.012600297193336454\n",
      "[0.4        0.18014288 0.01985713 0.4       ]\n",
      "0.012600290862085462\n",
      "[0.4        0.18014287 0.01985715 0.4       ]\n",
      "0.01260029025652233\n",
      "[0.4        0.18014287 0.01985713 0.40000001]\n",
      "0.012600293470087055\n",
      "[0.4 0.2 0.  0.4]\n",
      "0.013422926934115115\n",
      "[0.4 0.2 0.  0.4]\n",
      "0.013422926934115115\n",
      "[0.40000001 0.2        0.         0.4       ]\n",
      "0.013422929667341325\n",
      "[0.4        0.20000001 0.         0.4       ]\n",
      "0.01342292340160763\n",
      "[4.00000000e-01 2.00000000e-01 1.49011612e-08 4.00000000e-01]\n",
      "0.013422922772698449\n",
      "[0.4        0.2        0.         0.40000001]\n",
      "0.013422925967143607\n",
      "Optimization terminated successfully.    (Exit mode 0)\n",
      "            Current function value: -0.013422926934115115\n",
      "            Iterations: 5\n",
      "            Function evaluations: 30\n",
      "            Gradient evaluations: 5\n"
     ]
    },
    {
     "data": {
      "text/plain": [
       "poly1d([0.4, 0.2, 0. , 0.4])"
      ]
     },
     "execution_count": 145,
     "metadata": {},
     "output_type": "execute_result"
    },
    {
     "data": {
      "image/png": "[encoded data removed]",
      "text/plain": [
       "<Figure size 432x288 with 1 Axes>"
      ]
     },
     "metadata": {
      "needs_background": "light"
     },
     "output_type": "display_data"
    }
   ],
   "source": [
    "def error_poly(C, data):\n",
    "#     err = np.sum((data[:,1] - np.polyval(C, data[:, 0])) ** 2)\n",
    "    err = minSratio(C,data)* -1\n",
    "    return err\n",
    "\n",
    "def apply_sum_constraint(inputs):\n",
    "    #return value must come back as 0 to be accepted\n",
    "    #if return value is anything other than 0 it's rejected\n",
    "    #as not a valid answer.\n",
    "    total = 1 - np.sum(inputs)\n",
    "    return total\n",
    "\n",
    "my_constraints = ({'type': 'eq', \"fun\": apply_sum_constraint })\n",
    "def fit_poly(data, error_func, degree=3):\n",
    "    #Generate initial guess for polynomial model (all coeffs = 1)\n",
    "    Cguess = np.poly1d(np.ones(degree+1, dtype=np.float32))\n",
    "    bound = [(0,0.4),(0,0.4),(0,0.4),(0,0.4)]\n",
    "    #Plot initial guess (optional)\n",
    "    x = np.linspace(-5, 5, 21)\n",
    "    plt.plot(x, np.polyval(Cguess, x), 'm--', linewidth=2.0, label=\"Initial guess\")\n",
    "    \n",
    "    #Call optimizer to minimize\n",
    "    result = spo.minimize(error_func, Cguess, args=(data,), method='SLSQP',\n",
    "                          bounds=bound,constraints=my_constraints, options={'disp':True})\n",
    "    return np.poly1d(result.x)\n",
    "fit_poly(df,error_poly)"
   ]
  },
  {
   "cell_type": "code",
   "execution_count": null,
   "metadata": {},
   "outputs": [],
   "source": []
  },
  {
   "cell_type": "code",
   "execution_count": null,
   "metadata": {},
   "outputs": [],
   "source": []
  }
 ],
 "metadata": {
  "kernelspec": {
   "display_name": "Python 3",
   "language": "python",
   "name": "python3"
  },
  "language_info": {
   "codemirror_mode": {
    "name": "ipython",
    "version": 3
   },
   "file_extension": ".py",
   "mimetype": "text/x-python",
   "name": "python",
   "nbconvert_exporter": "python",
   "pygments_lexer": "ipython3",
   "version": "3.6.9"
  }
 },
 "nbformat": 4,
 "nbformat_minor": 4
}
